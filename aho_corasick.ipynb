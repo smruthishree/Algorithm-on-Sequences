{
  "nbformat": 4,
  "nbformat_minor": 0,
  "metadata": {
    "colab": {
      "name": "aho_corasick.ipynb",
      "provenance": [],
      "collapsed_sections": []
    },
    "kernelspec": {
      "name": "python3",
      "display_name": "Python 3"
    },
    "language_info": {
      "name": "python"
    }
  },
  "cells": [
    {
      "cell_type": "markdown",
      "source": [
        "Implementation of Aho-Corasick Algorithm"
      ],
      "metadata": {
        "id": "tKsGaVe2STCo"
      }
    },
    {
      "cell_type": "code",
      "source": [
        "from collections import defaultdict\n",
        "\n",
        "\n",
        "class AhoCorasick:\n",
        "\tdef __init__(self, words):\n",
        "\n",
        "\t\tself.max_states = sum([len(word) for word in words])  #sum of the length of all words.\n",
        "\t\tself.max_characters = 26 #a-z\n",
        "\t\tself.output = [0]*(self.max_states+1) #output function\n",
        "\t\tself.fail_link = [-1]*(self.max_states+1) #failure link\n",
        "\t\tself.trie = [[-1]*self.max_characters for _ in range(self.max_states+1)]\n",
        "\n",
        "\t\tself.words = words\n",
        "\t\tself.states_count = self.match_state()\n",
        "\n",
        "\n",
        "\tdef match_state(self):\n",
        "\t\tk = len(self.words)\n",
        "\n",
        "\t\tstates = 1\n",
        "\n",
        "\t\tfor i in range(k):\n",
        "\t\t\tword = self.words[i]\n",
        "\t\t\tcurrent_state = 0\n",
        "\n",
        "\t\t\tfor character in word:\n",
        "\t\t\t\tch = ord(character) - 97 # Ascii value of a = 97\n",
        "\n",
        "\t\t\t\tif self.trie[current_state][ch] == -1:\n",
        "\t\t\t\t\tself.trie[current_state][ch] = states\n",
        "\t\t\t\t\tstates += 1\n",
        "\n",
        "\t\t\t\tcurrent_state = self.trie[current_state][ch]\n",
        "\n",
        "\t\t\tself.output[current_state] |= (1<<i)\n",
        "   \n",
        "\t\tfor ch in range(self.max_characters):\n",
        "\t\t\tif self.trie[0][ch] == -1:\n",
        "\t\t\t\tself.trie[0][ch] = 0\n",
        "\t\n",
        "\t\tqueue = []\n",
        "\n",
        "\t\tfor ch in range(self.max_characters):\n",
        "\t\t\tif self.trie[0][ch] != 0:\n",
        "\t\t\t\tself.fail_link[self.trie[0][ch]] = 0\n",
        "\t\t\t\tqueue.append(self.trie[0][ch])\n",
        "\n",
        "\t\twhile queue:\n",
        "\t\t\tstate = queue.pop(0)\n",
        "\n",
        "\t\t\tfor ch in range(self.max_characters):\n",
        "\n",
        "\t\t\t\tif self.trie[state][ch] != -1:\n",
        "\n",
        "\t\t\t\t\tfailure = self.fail_link[state]\n",
        "\t\t\t\t\twhile self.trie[failure][ch] == -1:\n",
        "\t\t\t\t\t\tfailure = self.fail_link[failure]\n",
        "\t\t\t\t\t\n",
        "\t\t\t\t\tfailure = self.trie[failure][ch]\n",
        "\t\t\t\t\tself.fail_link[self.trie[state][ch]] = failure\n",
        "\n",
        "\t\t\t\t\tself.output[self.trie[state][ch]] |= self.output[failure]\n",
        "\n",
        "\t\t\t\t\tqueue.append(self.trie[state][ch])\n",
        "\t\t\n",
        "\t\treturn states\n",
        "\n",
        "\tdef find_nextstate(self, current_state, next_input):\n",
        "\t\tanswer = current_state\n",
        "\t\tch = ord(next_input) - 97 \n",
        "\t\twhile self.trie[answer][ch] == -1:\n",
        "\t\t\tanswer = self.fail_link[answer]\n",
        "\n",
        "\t\treturn self.trie[answer][ch]\n",
        "\n",
        "\tdef search(self, text):\n",
        "\t\n",
        "\t\tcurrent_state = 0\n",
        "\t\tresult = defaultdict(list)\n",
        "\t\tfor i in range(len(text)):\n",
        "\t\t\tcurrent_state = self.find_nextstate(current_state, text[i])\n",
        "\n",
        "\t\t\tif self.output[current_state] == 0: continue\n",
        "\n",
        "\t\t\tfor j in range(len(self.words)):\n",
        "\t\t\t\tif (self.output[current_state] & (1<<j)) > 0:\n",
        "\t\t\t\t\tword = self.words[j]\n",
        "\n",
        "\t\t\t\t\tresult[word].append(i-len(word)+1)\n",
        "     \n",
        "\t\treturn result"
      ],
      "metadata": {
        "id": "OGPPchs0T4x_"
      },
      "execution_count": 106,
      "outputs": []
    },
    {
      "cell_type": "markdown",
      "source": [
        "Test it here:"
      ],
      "metadata": {
        "id": "dJpGbajAZPyb"
      }
    },
    {
      "cell_type": "code",
      "source": [
        "if __name__ == \"__main__\":\n",
        "\twords = [\"es\", \"eskies\", \"ski\"]\n",
        "\ttext = \"blueskies\"\n",
        "\n",
        "\taho_chorasick = AhoCorasick(words)\n",
        "\tresult = aho_chorasick.search(text)\n",
        " \t\n",
        "\tfor word in result:\n",
        "\t\tfor i in result[word]:\n",
        "\t\t\tprint(\"The Keyword\", word, \"appears between\", i, \"to\", i+len(word)-1)"
      ],
      "metadata": {
        "colab": {
          "base_uri": "https://localhost:8080/"
        },
        "id": "WHaEOKqZZDlO",
        "outputId": "02e643fc-71ed-4d37-8a46-4a9261d0942a"
      },
      "execution_count": 107,
      "outputs": [
        {
          "output_type": "stream",
          "name": "stdout",
          "text": [
            "The Keyword es appears between 3 to 4\n",
            "The Keyword es appears between 7 to 8\n",
            "The Keyword ski appears between 4 to 6\n",
            "The Keyword eskies appears between 3 to 8\n"
          ]
        }
      ]
    },
    {
      "cell_type": "code",
      "source": [
        "if __name__ == \"__main__\":\n",
        "\twords = [\"potato\", \"tattoo\", \"theater\",\"other\"]\n",
        "\ttext = \"xxpotattooxx\"\n",
        "\n",
        "\taho_chorasick = AhoCorasick(words)\n",
        "\tresult = aho_chorasick.search(text)\n",
        " \t\n",
        "\tfor word in result:\n",
        "\t\tfor i in result[word]:\n",
        "\t\t\tprint(\"The Keyword\", word, \"appears between\", i, \"to\", i+len(word)-1)"
      ],
      "metadata": {
        "colab": {
          "base_uri": "https://localhost:8080/"
        },
        "id": "BNgC1V1ZcJuE",
        "outputId": "40433269-5bf8-4529-bd78-fd033b055cc6"
      },
      "execution_count": 108,
      "outputs": [
        {
          "output_type": "stream",
          "name": "stdout",
          "text": [
            "The Keyword tattoo appears between 4 to 9\n"
          ]
        }
      ]
    }
  ]
}