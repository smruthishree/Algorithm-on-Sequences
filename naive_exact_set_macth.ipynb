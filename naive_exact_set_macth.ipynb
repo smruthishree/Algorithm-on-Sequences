{
  "nbformat": 4,
  "nbformat_minor": 0,
  "metadata": {
    "colab": {
      "name": "naive - exact set macth.ipynb",
      "provenance": []
    },
    "kernelspec": {
      "name": "python3",
      "display_name": "Python 3"
    },
    "language_info": {
      "name": "python"
    }
  },
  "cells": [
    {
      "cell_type": "markdown",
      "source": [
        "Implementation of Naive Algotithm(ESPM) using Keyword Tree"
      ],
      "metadata": {
        "id": "me0MOCFv1PMO"
      }
    },
    {
      "cell_type": "code",
      "source": [
        "class TreeNode:\n",
        "\n",
        "    def __init__(self, char):\n",
        "        self.char = char    # the character stored in node\n",
        "        self.counter = 0    # count of word\n",
        "        self.children = {}  # list of child nodes\n",
        "        self.end = False    # check if it is end of a word"
      ],
      "metadata": {
        "id": "SvgMPVuH1Z8Y"
      },
      "execution_count": 21,
      "outputs": []
    },
    {
      "cell_type": "code",
      "source": [
        "class Tree:\n",
        "\n",
        "    def __init__(self):\n",
        "        self.root = TreeNode(\"\")\n",
        "    \n",
        "    def add(self, word):     # insertion of word into tree\n",
        "        node = self.root\n",
        "      \n",
        "        for char in word:\n",
        "            if char in node.children:\n",
        "                node = node.children[char]\n",
        "            else:\n",
        "                \n",
        "                new_node = TreeNode(char)\n",
        "                node.children[char] = new_node\n",
        "                node = new_node\n",
        "      \n",
        "        node.end = True\n",
        "        node.counter += 1\n",
        "        \n",
        "    def dfsearch(self, node, prefix):    #depth-first traversal\n",
        "        if node.end:\n",
        "            self.output.append((prefix + node.char, node.counter))\n",
        "        for child in node.children.values():\n",
        "            self.dfsearch(child, prefix + node.char)\n",
        "        \n",
        "    def search(self, x):      # traverse through the tree and retrieve the words\n",
        "        self.output = []\n",
        "        node = self.root\n",
        "\n",
        "        for char in x:\n",
        "            if char in node.children:\n",
        "                node = node.children[char]\n",
        "            else:\n",
        "                return []\n",
        "\n",
        "        self.dfsearch(node, x[:-1])\n",
        "        return sorted(self.output, key=lambda x: x[1], reverse=True)"
      ],
      "metadata": {
        "id": "ltMddScV1c1s"
      },
      "execution_count": 22,
      "outputs": []
    },
    {
      "cell_type": "markdown",
      "source": [
        "Naive algm:"
      ],
      "metadata": {
        "id": "k28m-s-T1hKe"
      }
    },
    {
      "cell_type": "code",
      "source": [
        "def esmp(word):\n",
        "    char = list(word)  \n",
        "\n",
        "    node = tree.root \n",
        "    match_words = []  \n",
        "\n",
        "    for c in char:  \n",
        "        if c in node.children:  \n",
        "            node = node.children[c]  \n",
        "            \n",
        "            match_words.append(c)\n",
        "        else:\n",
        "            node = tree.root \n",
        "           \n",
        "            match_words.append(',')\n",
        "\n",
        "    return \"\".join(match_words)  \n"
      ],
      "metadata": {
        "id": "ITnp40U-1ewF"
      },
      "execution_count": 23,
      "outputs": []
    },
    {
      "cell_type": "markdown",
      "source": [
        "Output"
      ],
      "metadata": {
        "id": "dmojFnZG1sjV"
      }
    },
    {
      "cell_type": "code",
      "source": [
        "tree = Tree()  \n",
        "\n",
        "text = \"bandagedbanstrawerrybananapineapple\"\n",
        "\n",
        "p1 = \"ban\"\n",
        "p2 = \"bandage\"\n",
        "p3 = \"banana\"\n",
        "p4 = \"kiwi\"\n",
        "p5 = \"band\"\n",
        "p6 = \"mango\"\n",
        "\n",
        "tree.add(p1)\n",
        "tree.add(p2)\n",
        "tree.add(p3)\n",
        "tree.add(p4)\n",
        "tree.add(p5)\n",
        "tree.add(p6)\n",
        "\n",
        "match_words = esmp(text)  \n",
        "\n",
        "print(\"words in the tree : {}\".format(match))"
      ],
      "metadata": {
        "colab": {
          "base_uri": "https://localhost:8080/"
        },
        "id": "CNLUo3Fi1pmx",
        "outputId": "cd6e39c8-f744-4aa5-ef0e-9813bc83413b"
      },
      "execution_count": 20,
      "outputs": [
        {
          "output_type": "stream",
          "name": "stdout",
          "text": [
            "words in the tree : bandage,ban,,,,,,,,,banana,,,,,,,,,\n"
          ]
        }
      ]
    }
  ]
}