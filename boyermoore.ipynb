{
  "nbformat": 4,
  "nbformat_minor": 0,
  "metadata": {
    "colab": {
      "name": "boyermoore.ipynb",
      "provenance": [],
      "collapsed_sections": []
    },
    "kernelspec": {
      "name": "python3",
      "display_name": "Python 3"
    },
    "language_info": {
      "name": "python"
    }
  },
  "cells": [
    {
      "cell_type": "code",
      "execution_count": 34,
      "metadata": {
        "id": "4TUEcVeY71UU"
      },
      "outputs": [],
      "source": [
        "def badChar(string, size):\n",
        "  \n",
        "\tbc = [-1]*characters\n",
        "\n",
        "\tfor i in range(size):       # the actual value of last occurrence\n",
        "\t\tbc[ord(string[i])] = i;\n",
        "\n",
        "\treturn bc                   # return initialized list\n",
        "\n",
        "def good_suffix_preprocess(pattern):\n",
        "    m = len(pattern)\n",
        "    n = m+1\n",
        "\n",
        "    longest_common_borders = [0] * (len(pattern) + 1)       # Starting positions of the wide border of suffix in the pattern\n",
        "    promising_shift_distance = [0] * (len(pattern) + 1)     # Shift distances when mismatch occurs \n",
        "    longest_common_borders[m] = n\n",
        "\n",
        "    while n > 0:\n",
        "        while n <= len(pattern) and pattern[m-1] != pattern[n-1]:\n",
        "            if promising_shift_distance[n] == 0:\n",
        "                promising_shift_distance[n] = n-i\n",
        "            n = longest_common_borders[n]\n",
        "        m -= 1\n",
        "        n -= 1\n",
        "        longest_common_borders[m] = n\n",
        "\n",
        "    return longest_common_borders, promising_shift_distance\n",
        "\n",
        "def find_pattern(text, pattern):\n",
        "\n",
        "\n",
        "\tp = len(pattern)\n",
        "\tt = len(text)\n",
        "\n",
        "\tbc = badChar(pattern, p)\n",
        "\n",
        "\ts = 0\n",
        "\twhile(s <= t-p):\n",
        "\t\tj = p-1\n",
        "\n",
        "\t\twhile j>=0 and pattern[j] == text[s+j]:\n",
        "\t\t\tj -= 1\n",
        "\n",
        "\t\tif j<0:\n",
        "\t\t\tprint(\"Pattern is present at index : {}\".format(s))\n",
        "\t\t\ts += (p-bc[ord(text[s+p])] if s+p<t else 1)\n",
        "\t\telse:\n",
        "\t\t\ts += max(1, j-bc[ord(text[s+j])])\n"
      ]
    },
    {
      "cell_type": "code",
      "source": [
        "def main():\n",
        "\ttext = \"BOYERMOOREALGORITHM\"\n",
        "\tpattern = \"REAL\"\n",
        "\tfind_pattern(text, pattern)\n",
        "\n",
        "if __name__ == '__main__':\n",
        "\tmain()"
      ],
      "metadata": {
        "colab": {
          "base_uri": "https://localhost:8080/"
        },
        "id": "nbpngDTCmx58",
        "outputId": "ef9bd82b-3e8f-4191-daca-599a1185bf69"
      },
      "execution_count": 35,
      "outputs": [
        {
          "output_type": "stream",
          "name": "stdout",
          "text": [
            "Pattern is present at index : 8\n"
          ]
        }
      ]
    },
    {
      "cell_type": "code",
      "source": [
        "def main():\n",
        "\ttext = \"banbanbanananana\"\n",
        "\tpattern = \"ban\"\n",
        "\tfind_pattern(text, pattern)\n",
        "\n",
        "if __name__ == '__main__':\n",
        "\tmain()"
      ],
      "metadata": {
        "colab": {
          "base_uri": "https://localhost:8080/"
        },
        "id": "r8LuZWztm2qZ",
        "outputId": "6320d7da-87f2-4bf1-bd3b-3f4a1285fece"
      },
      "execution_count": 36,
      "outputs": [
        {
          "output_type": "stream",
          "name": "stdout",
          "text": [
            "Pattern is present at index : 0\n",
            "Pattern is present at index : 3\n",
            "Pattern is present at index : 6\n"
          ]
        }
      ]
    }
  ]
}