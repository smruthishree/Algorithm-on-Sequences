{
  "nbformat": 4,
  "nbformat_minor": 0,
  "metadata": {
    "colab": {
      "name": "KeywordTree.ipynb",
      "provenance": []
    },
    "kernelspec": {
      "name": "python3",
      "display_name": "Python 3"
    },
    "language_info": {
      "name": "python"
    }
  },
  "cells": [
    {
      "cell_type": "markdown",
      "source": [
        "Implementation of Keyword Tree"
      ],
      "metadata": {
        "id": "XAZeBytMd_jp"
      }
    },
    {
      "cell_type": "code",
      "execution_count": 97,
      "metadata": {
        "id": "GR6OrCHGku2T"
      },
      "outputs": [],
      "source": [
        "class TreeNode:\n",
        "\n",
        "    def __init__(self, char):\n",
        "        self.char = char    # the character stored in node\n",
        "        self.counter = 0    # count of word\n",
        "        self.children = {}  # list of child nodes\n",
        "        self.end = False    # check if it is end of a word"
      ]
    },
    {
      "cell_type": "code",
      "source": [
        "class Tree:\n",
        "\n",
        "    def __init__(self):\n",
        "        self.root = TreeNode(\"\")\n",
        "    \n",
        "    def add(self, word):     # insertion of word into tree\n",
        "        node = self.root\n",
        "      \n",
        "        for char in word:\n",
        "            if char in node.children:\n",
        "                node = node.children[char]\n",
        "            else:\n",
        "                \n",
        "                new_node = TreeNode(char)\n",
        "                node.children[char] = new_node\n",
        "                node = new_node\n",
        "      \n",
        "        node.end = True\n",
        "        node.counter += 1\n",
        "        \n",
        "    def dfsearch(self, node, prefix):    #depth-first traversal\n",
        "        if node.end:\n",
        "            self.output.append((prefix + node.char, node.counter))\n",
        "        for child in node.children.values():\n",
        "            self.dfsearch(child, prefix + node.char)\n",
        "        \n",
        "    def search(self, x):      # traverse through the tree and retrieve the words\n",
        "        self.output = []\n",
        "        node = self.root\n",
        "\n",
        "        for char in x:\n",
        "            if char in node.children:\n",
        "                node = node.children[char]\n",
        "            else:\n",
        "                return []\n",
        "\n",
        "        self.dfsearch(node, x[:-1])\n",
        "        return sorted(self.output, key=lambda x: x[1], reverse=True)"
      ],
      "metadata": {
        "id": "EXHDUmr1d_NL"
      },
      "execution_count": 98,
      "outputs": []
    },
    {
      "cell_type": "code",
      "source": [
        "P = Tree()\n",
        "P.add(\"ban\")\n",
        "P.add(\"banana\")\n",
        "P.add(\"band\")\n",
        "P.add(\"bandage\")\n",
        "P.add(\"mango\")\n",
        "output = P.search(\"band\")\n",
        "print(\"The given words are in the tree:\")\n",
        "print(output)"
      ],
      "metadata": {
        "colab": {
          "base_uri": "https://localhost:8080/"
        },
        "id": "rXmVH-g4eQSC",
        "outputId": "8d4e9ce7-04f3-4a0b-ce10-bf624b7cdf44"
      },
      "execution_count": 99,
      "outputs": [
        {
          "output_type": "stream",
          "name": "stdout",
          "text": [
            "The given words are in the tree:\n",
            "[('band', 1), ('bandage', 1)]\n"
          ]
        }
      ]
    }
  ]
}