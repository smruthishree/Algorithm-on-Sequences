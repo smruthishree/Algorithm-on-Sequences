{
  "nbformat": 4,
  "nbformat_minor": 0,
  "metadata": {
    "colab": {
      "name": "z-box.ipynb",
      "provenance": [],
      "collapsed_sections": []
    },
    "kernelspec": {
      "name": "python3",
      "display_name": "Python 3"
    },
    "language_info": {
      "name": "python"
    }
  },
  "cells": [
    {
      "cell_type": "markdown",
      "source": [
        "Z-box algorithm"
      ],
      "metadata": {
        "id": "R1Bn-Y-5x-Mk"
      }
    },
    {
      "cell_type": "code",
      "source": [
        "def zbox(pattern, text):\n",
        "\n",
        "    s = pattern + text\n",
        "    Z = [0] * len(s)\n",
        "    Z[0] = len(s)\n",
        " \n",
        "    r, l = 0, 0 \n",
        " \n",
        "    lcp = []\n",
        " \n",
        "    for k in range(1, len(s)):\n",
        "    \n",
        "        if k > r:                 #subroutine 1\n",
        "            n = 0\n",
        "            while n + k < len(s) and s[n] == s[ n + k ]:\n",
        "                n += 1\n",
        "            Z[k] = n\n",
        "            if n > 0:\n",
        "                l = k\n",
        "                r = k + n-1\n",
        "        else:                     #subroutine 2\n",
        "            p = k - l\n",
        "            rl = r - k + 1\n",
        " \n",
        "            if Z[p] < rl:\n",
        "                Z[k] = Z[p]\n",
        "            else:\n",
        "                i = r + 1\n",
        "                while i < len(s) and s[i] == s[i - k]:\n",
        "                    i += 1\n",
        "                Z[k] = i - k\n",
        " \n",
        "                l = k\n",
        "                r = i - 1\n",
        " \n",
        "        Z[k] = min(len(pattern), Z[k])\n",
        " \n",
        "        if Z[k] == len(pattern):\n",
        "            lcp.append(k - len(pattern))\n",
        " \n",
        "    return lcp"
      ],
      "metadata": {
        "id": "88poC0i6hmXf"
      },
      "execution_count": 60,
      "outputs": []
    },
    {
      "cell_type": "markdown",
      "source": [
        "Print the index of pattern found at text"
      ],
      "metadata": {
        "id": "ePVYzGAxltCV"
      }
    },
    {
      "cell_type": "code",
      "source": [
        "zbox('ban','banoffebanana')"
      ],
      "metadata": {
        "colab": {
          "base_uri": "https://localhost:8080/"
        },
        "id": "80oyghwiefD0",
        "outputId": "6b3ff6e8-d89e-438b-c665-15963d4d279f"
      },
      "execution_count": 61,
      "outputs": [
        {
          "output_type": "execute_result",
          "data": {
            "text/plain": [
              "[0, 7]"
            ]
          },
          "metadata": {},
          "execution_count": 61
        }
      ]
    }
  ]
}